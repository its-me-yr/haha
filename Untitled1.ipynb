{
  "nbformat": 4,
  "nbformat_minor": 0,
  "metadata": {
    "colab": {
      "provenance": []
    },
    "kernelspec": {
      "name": "python3",
      "display_name": "Python 3"
    },
    "language_info": {
      "name": "python"
    }
  },
  "cells": [
    {
      "cell_type": "code",
      "execution_count": 10,
      "metadata": {
        "colab": {
          "base_uri": "https://localhost:8080/"
        },
        "id": "JGrFCcbNBROE",
        "outputId": "76a3993f-2dd9-48c0-c227-988fc8e1b284"
      },
      "outputs": [
        {
          "output_type": "stream",
          "name": "stdout",
          "text": [
            "輸入範圍3\n",
            "1x1 = 1\n",
            "1x2 = 2\n",
            "1x3 = 3\n",
            "2x1 = 2\n",
            "2x2 = 4\n",
            "2x3 = 6\n",
            "3x1 = 3\n",
            "3x2 = 6\n",
            "3x3 = 9\n"
          ]
        }
      ],
      "source": [
        "number = int(input(\"輸入範圍\"))\n",
        "\n",
        "for i in range(1, number + 1):\n",
        " for j in range(1, number + 1):\n",
        "  product = i * j\n",
        "  print(f\"{i}x{j} = {product}\")"
      ]
    },
    {
      "cell_type": "code",
      "source": [
        "import random\n",
        "# 生成一個隨機數字，這是要猜的數字\n",
        "target_number = random.randint(1,100)\n",
        "\n",
        "print(\"歡迎參加猜數字遊戲！\")\n",
        "ans = 0\n",
        "while ans ==0:\n",
        "  guess = int(input(\"請猜1～100之間的一個數！\"))\n",
        "  if guess > target_number:\n",
        "    print(\"答案是更小的數！\")\n",
        "  elif guess < target_number:\n",
        "    print(\"答案是更大的數！\")\n",
        "  else:\n",
        "    print(f\"答對了！答案是 {target_number}\")\n",
        "    ans = 0\n",
        "    break\n",
        "print(\"遊戲結束。\")"
      ],
      "metadata": {
        "colab": {
          "base_uri": "https://localhost:8080/"
        },
        "id": "e-9oB7zpDkUL",
        "outputId": "5c6bebe8-1406-4099-d25c-9488b38ac8ae"
      },
      "execution_count": 18,
      "outputs": [
        {
          "output_type": "stream",
          "name": "stdout",
          "text": [
            "歡迎參加猜數字遊戲！\n",
            "請猜1～100之間的一個數！50\n",
            "答案是更小的數！\n",
            "請猜1～100之間的一個數！25\n",
            "答案是更小的數！\n",
            "請猜1～100之間的一個數！15\n",
            "答案是更大的數！\n",
            "請猜1～100之間的一個數！20\n",
            "答案是更大的數！\n",
            "請猜1～100之間的一個數！23\n",
            "答案是更大的數！\n",
            "請猜1～100之間的一個數！24\n",
            "答對了！答案是 24\n",
            "遊戲結束。\n"
          ]
        }
      ]
    }
  ]
}