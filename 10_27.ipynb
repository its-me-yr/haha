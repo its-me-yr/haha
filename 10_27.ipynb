{
  "nbformat": 4,
  "nbformat_minor": 0,
  "metadata": {
    "colab": {
      "provenance": []
    },
    "kernelspec": {
      "name": "python3",
      "display_name": "Python 3"
    },
    "language_info": {
      "name": "python"
    }
  },
  "cells": [
    {
      "cell_type": "code",
      "execution_count": 9,
      "metadata": {
        "colab": {
          "base_uri": "https://localhost:8080/"
        },
        "id": "Jj7xsHVwEaim",
        "outputId": "29a9cadc-6284-4fcf-e345-ea13bf9f1e59"
      },
      "outputs": [
        {
          "output_type": "stream",
          "name": "stdout",
          "text": [
            "\n",
            "您想查詢什麼？(藥方名稱/出典/處方/效能/適應症/退出查詢)：藥方名稱\n",
            "疏經活血湯\n",
            "\n",
            "您想查詢什麼？(藥方名稱/出典/處方/效能/適應症/退出查詢)：出典\n",
            "疏經活血湯的出典為:萬病回春\n",
            "\n",
            "您想查詢什麼？(藥方名稱/出典/處方/效能/適應症/退出查詢)：處方\n",
            "疏經活血湯的處方為:\n",
            "甘草：1公克\n",
            "當歸：2公克\n",
            "白芍：2.5公克\n",
            "生地黃：2公克\n",
            "蒼朮：2公克\n",
            "牛膝：2公克\n",
            "陳皮：2公克\n",
            "桃仁：2公克\n",
            "威靈仙：2公克\n",
            "川芎：1公克\n",
            "防己：1公克\n",
            "羌活：1公克\n",
            "防風：1公克\n",
            "白芷：1公克\n",
            "龍膽：1公克\n",
            "茯苓：1公克\n",
            "生薑：3公克\n",
            "總克數為：27.5公克\n",
            "\n",
            "您想查詢什麼？(藥方名稱/出典/處方/效能/適應症/退出查詢)：效能\n",
            "疏經活血湯的效能是:疏經、活血、祛風\n",
            "\n",
            "您想查詢什麼？(藥方名稱/出典/處方/效能/適應症/退出查詢)：適應症\n",
            "疏經活血湯的適應症有:\n",
            "關節痛\n",
            "腰痛\n",
            "筋肉痛\n",
            "遍身走痛\n",
            "\n",
            "您想查詢什麼？(藥方名稱/出典/處方/效能/適應症/退出查詢)：退出查詢\n",
            "感謝使用，再見！\n"
          ]
        }
      ],
      "source": [
        "# 定義疏經活血湯的資料\n",
        "prescription = {\n",
        "    '名稱': '疏經活血湯',\n",
        "    '出典': '萬病回春',\n",
        "    '處方': {\n",
        "        '甘草': 1,  # 公克\n",
        "        '當歸': 2,\n",
        "        '白芍': 2.5,\n",
        "        '生地黃': 2,\n",
        "        '蒼朮': 2,\n",
        "        '牛膝': 2,\n",
        "        '陳皮': 2,\n",
        "        '桃仁': 2,\n",
        "        '威靈仙': 2,\n",
        "        '川芎': 1,\n",
        "        '防己': 1,\n",
        "        '羌活': 1,\n",
        "        '防風': 1,\n",
        "        '白芷': 1,\n",
        "        '龍膽': 1,\n",
        "        '茯苓': 1,\n",
        "        '生薑': 3\n",
        "    },\n",
        "    '效能': '疏經、活血、祛風',\n",
        "    '適應症': ['關節痛', '腰痛', '筋肉痛', '遍身走痛']\n",
        "}\n",
        "\n",
        "# 使用 while 迴圈提供查詢服務\n",
        "while True:\n",
        "    query = input(\"\\n您想查詢什麼？(藥方名稱/出典/處方/效能/適應症/退出查詢)：\")\n",
        "\n",
        "    if query == \"藥方名稱\":\n",
        "        print(f\"{prescription['名稱']}\")\n",
        "    elif query == \"出典\":\n",
        "        print(f\"{prescription['名稱']}的出典為:{prescription['出典']}\")\n",
        "    elif query == \"適應症\":\n",
        "        print(f\"{prescription['名稱']}的適應症有:\")\n",
        "        for symptom in prescription['適應症']:\n",
        "            print(symptom)\n",
        "    elif query == \"處方\":\n",
        "        total_weight = sum(prescription['處方'].values())\n",
        "        print(f\"{prescription['名稱']}的處方為:\")\n",
        "        for medicine, weight in prescription['處方'].items():\n",
        "            print(f\"{medicine}：{weight}公克\")\n",
        "        print(f\"總克數為：{total_weight}公克\")\n",
        "    elif query == \"效能\":\n",
        "        print(f\"{prescription['名稱']}的效能是:{prescription['效能']}\")\n",
        "    elif query == \"退出查詢\":\n",
        "        print(\"感謝使用，再見！\")\n",
        "        break\n",
        "    else:\n",
        "        print(\"輸入無效，請重新輸入。\")"
      ]
    },
    {
      "cell_type": "code",
      "source": [],
      "metadata": {
        "id": "r56qrTkMG9ad"
      },
      "execution_count": null,
      "outputs": []
    }
  ]
}